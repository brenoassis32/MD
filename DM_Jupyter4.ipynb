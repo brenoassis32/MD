{
 "cells": [
  {
   "cell_type": "markdown",
   "metadata": {},
   "source": [
    "# Trabalho Final de Mineração de Dados\n",
    "\n",
    "## Padrões Frequentes na Seleção de Disciplinas no CEFET-RJ\n",
    "\n",
    "### Desenvolvimento em R\n",
    "\n",
    "Pacotes necessários"
   ]
  },
  {
   "cell_type": "code",
   "execution_count": 1,
   "metadata": {
    "scrolled": true
   },
   "outputs": [
    {
     "name": "stdout",
     "output_type": "stream",
     "text": [
      "package 'arules' successfully unpacked and MD5 sums checked\n",
      "\n",
      "The downloaded binary packages are in\n",
      "\tC:\\Users\\Bruno\\AppData\\Local\\Temp\\RtmpkvDWcq\\downloaded_packages\n",
      "package 'arulesViz' successfully unpacked and MD5 sums checked\n",
      "\n",
      "The downloaded binary packages are in\n",
      "\tC:\\Users\\Bruno\\AppData\\Local\\Temp\\RtmpkvDWcq\\downloaded_packages\n",
      "package 'ggplot2' successfully unpacked and MD5 sums checked\n",
      "\n",
      "The downloaded binary packages are in\n",
      "\tC:\\Users\\Bruno\\AppData\\Local\\Temp\\RtmpkvDWcq\\downloaded_packages\n"
     ]
    },
    {
     "name": "stderr",
     "output_type": "stream",
     "text": [
      "Warning message:\n",
      "\"package 'grid' is not available (for R version 3.3.2)\"Warning message:\n",
      "\"package 'grid' is a base package, and should not be updated\""
     ]
    },
    {
     "name": "stdout",
     "output_type": "stream",
     "text": [
      "package 'RColorBrewer' successfully unpacked and MD5 sums checked\n",
      "\n",
      "The downloaded binary packages are in\n",
      "\tC:\\Users\\Bruno\\AppData\\Local\\Temp\\RtmpkvDWcq\\downloaded_packages\n",
      "package 'reshape' successfully unpacked and MD5 sums checked\n",
      "\n",
      "The downloaded binary packages are in\n",
      "\tC:\\Users\\Bruno\\AppData\\Local\\Temp\\RtmpkvDWcq\\downloaded_packages\n"
     ]
    }
   ],
   "source": [
    "install.packages('arules', repos='http://cran.us.r-project.org')\n",
    "install.packages('arulesViz', repos='http://cran.us.r-project.org')\n",
    "install.packages(\"ggplot2\", repos='http://cran.us.r-project.org')\n",
    "install.packages(\"grid\", repos='http://cran.us.r-project.org')\n",
    "install.packages(\"RColorBrewer\", repos='http://cran.us.r-project.org')\n",
    "install.packages(\"reshape\", repos='http://cran.us.r-project.org')"
   ]
  },
  {
   "cell_type": "markdown",
   "metadata": {},
   "source": [
    "Habilitando pacotes necessários:"
   ]
  },
  {
   "cell_type": "code",
   "execution_count": 2,
   "metadata": {
    "scrolled": true
   },
   "outputs": [
    {
     "name": "stderr",
     "output_type": "stream",
     "text": [
      "Loading required package: arules\n",
      "Warning message:\n",
      "\"package 'arules' was built under R version 3.3.3\"Loading required package: Matrix\n",
      "\n",
      "Attaching package: 'arules'\n",
      "\n",
      "The following objects are masked from 'package:base':\n",
      "\n",
      "    abbreviate, write\n",
      "\n",
      "Loading required package: arulesViz\n",
      "Warning message:\n",
      "\"package 'arulesViz' was built under R version 3.3.3\"Loading required package: grid\n",
      "Loading required package: reshape\n",
      "Warning message:\n",
      "\"package 'reshape' was built under R version 3.3.3\"\n",
      "Attaching package: 'reshape'\n",
      "\n",
      "The following object is masked from 'package:Matrix':\n",
      "\n",
      "    expand\n",
      "\n",
      "Loading required package: ggplot2\n",
      "Warning message:\n",
      "\"package 'ggplot2' was built under R version 3.3.3\"Loading required package: RColorBrewer\n"
     ]
    }
   ],
   "source": [
    "options(repr.plot.width=4, repr.plot.height=3)\n",
    "require(arules)\n",
    "require(arulesViz)\n",
    "require(reshape)\n",
    "require(ggplot2)\n",
    "require(grid)\n",
    "require(RColorBrewer)\n"
   ]
  },
  {
   "cell_type": "markdown",
   "metadata": {},
   "source": [
    "Padrão para Gráficos"
   ]
  },
  {
   "cell_type": "code",
   "execution_count": 3,
   "metadata": {
    "collapsed": true
   },
   "outputs": [],
   "source": [
    "plot.boxplot <- function(series, labx = \"x\", laby = \"y\", colors = NULL) {\n",
    "  grf <- ggplot(aes(y = value, x = variable), data = series)\n",
    "  if (!is.null(colors)) {\n",
    "    grf <- grf + geom_boxplot(color = colors)\n",
    "  }\n",
    "  else {\n",
    "    grf <- grf + geom_boxplot()\n",
    "  }\n",
    "  grf <- grf + theme_bw(base_size = 10)\n",
    "  grf <- grf + theme(panel.grid.minor = element_blank()) + theme(legend.position = \"bottom\")\n",
    "  grf <- grf + xlab(labx)\n",
    "  grf <- grf + ylab(laby)\n",
    "  return(grf)\n",
    "}\n",
    "plot.bar <- function(series, group=FALSE, colors=NULL) {\n",
    "  if (group) {\n",
    "    grf <- ggplot(series, aes(x, value, fill=variable)) + geom_bar(stat = \"identity\",position = \"dodge\")\n",
    "    if (!is.null(colors)) {\n",
    "      grf <- grf + scale_fill_manual(\"legend\", values = colors)\n",
    "    }\n",
    "  }\n",
    "  else {  \n",
    "    grf <- ggplot(series, aes(variable, value))\n",
    "    if (!is.null(colors)) {\n",
    "      grf <- grf + geom_bar(stat = \"identity\",fill=colors)\n",
    "    }\n",
    "    else {  \n",
    "      grf <- grf + geom_bar(stat = \"identity\")\n",
    "    }    \n",
    "  }\n",
    "  grf <- grf + theme_bw(base_size = 10)\n",
    "  grf <- grf + theme(panel.grid.minor = element_blank()) + theme(legend.position = \"bottom\")\n",
    "  grf <- grf + scale_x_discrete(limits = unique(series$x))\n",
    "  return(grf)\n",
    "}\n",
    "mycolors=c(\"darkblue\", \"red\", \"darkgreen\", \"orange\", \"purple\", \"yellow\", \"brown\", \"grey\")\n",
    "mycolors1=c(mycolors[1],mycolors[2],mycolors[3],mycolors[4],mycolors[5],mycolors[6])\n",
    "mycolors2=c(mycolors[1],mycolors[2],mycolors[3],mycolors[4],mycolors[5])\n",
    "mycolors3=c(mycolors[1],mycolors[2],mycolors[3])\n",
    "mycolors4=c(\"darkblue\", \"red\", \"darkgreen\", \"orange\", \"purple\", \"yellow\", \"brown\", \"grey\",\"black\")"
   ]
  },
  {
   "cell_type": "markdown",
   "metadata": {},
   "source": [
    "Carregando dataset:"
   ]
  },
  {
   "cell_type": "code",
   "execution_count": 4,
   "metadata": {
    "collapsed": true
   },
   "outputs": [],
   "source": [
    "arquivo=read.csv(\"http://pppro.cefet-rj.br/~breno/dataset.csv\", sep = \";\", h=T )"
   ]
  },
  {
   "cell_type": "markdown",
   "metadata": {},
   "source": [
    "#### Análise Exploratória\n",
    "\n",
    "##### 1) Sumário de dados"
   ]
  },
  {
   "cell_type": "code",
   "execution_count": 5,
   "metadata": {
    "scrolled": true
   },
   "outputs": [
    {
     "data": {
      "text/plain": [
       " UNIDADE                                                        NOME_UNIDADE \n",
       " ANG:  819   MAR - CURSO DE ENGENHARIA DE PRODUÇÃO                    :3437  \n",
       " IT : 1570   MAR - CURSO DE ENGENHARIA MECÂNICA                       :3288  \n",
       " MAR:18915   MAR - CURSO DE ENGENHARIA CIVIL                          :3097  \n",
       " NF : 1358   MAR - CURSO DE ADMINISTRAÇÃO INDUSTRIAL                  :2204  \n",
       " PET: 1464   IT - CURSO DE ENGENHARIA HABILITAÇÃO INDUSTRIAL  MECÂNICA:1570  \n",
       "             MAR - CURSO DE ENGENHARIA  ELÉTRICA                      :1294  \n",
       "             (Other)                                                  :9236  \n",
       "    DT_SOLICITACAO       DT_PROCESS     COD_DISCIPLINA \n",
       " 14/01/2016:13027             : 2524   GEXT7303:  467  \n",
       " 15/01/2016: 5160   21/01/2016:21602   GEXT7502:  427  \n",
       " 17/01/2016: 1704                      GEXT7401:  420  \n",
       " 18/01/2016: 1704                      GEXT7302:  412  \n",
       " 19/01/2016: 1439                      GEDA7601:  370  \n",
       " 20/01/2016:  722                      GEXT7503:  356  \n",
       " (Other)   :  370                      (Other) :21674  \n",
       "                         NOME_DISCIPLINA  PERIODO_IDEAL     PRIOR_TURMA    \n",
       " EQUAÇÕES DIFERENCIAIS ORDINÁRIAS:  578   Min.   : 0.000   Min.   : 1.000  \n",
       " ÁLGEBRA LINEAR II               :  551   1st Qu.: 2.000   1st Qu.: 2.000  \n",
       " CÁLCULO A VÁRIAS VARIÁVEIS      :  507   Median : 3.000   Median : 4.000  \n",
       " COMPUTAÇÃO                      :  486   Mean   : 3.829   Mean   : 6.361  \n",
       " METODOLOGIA CIENTÍFICA          :  436   3rd Qu.: 5.000   3rd Qu.: 7.000  \n",
       " CÁLCULO VETORIAL                :  412   Max.   :10.000   Max.   :89.000  \n",
       " (Other)                         :21156                                    \n",
       "   PRIOR_DISC     ORDEM_MATR                                 SITUACAO    \n",
       " Min.   :   0   Min.   :0.000   Aceita/Matriculada               :17309  \n",
       " 1st Qu.: 607   1st Qu.:5.270   Solicitação  Cancelada           : 2524  \n",
       " Median :2504   Median :6.610   Rejeitada/Falta de Vagas         : 1508  \n",
       " Mean   :2766   Mean   :6.246   Rejeitada/Falta de Pré-Requisito : 1262  \n",
       " 3rd Qu.:5200   3rd Qu.:7.600   Rejeitada/Matriculado ou Aprovado:  962  \n",
       " Max.   :6000   Max.   :9.590   Rejeitada/Choque de Horário      :  532  \n",
       "                                (Other)                          :   29  \n",
       "   COD_TURMA       COD_CURSO          MATR_ALUNO    SITUACAO_ITEM  \n",
       " 2      :  157   GPROD  :3437   1518218GELT:   72   Min.   : 2.00  \n",
       " EM-5N  :  157   GMEC   :3288   1528847GMEC:   68   1st Qu.: 2.00  \n",
       " EM7N   :  150   GCIV   :3097   1528492GPRO:   65   Median : 2.00  \n",
       " 930001 :  123   GADM   :2204   1529238GTEL:   65   Mean   :12.97  \n",
       " 440082 :  112   GMECIT :1570   1422271GAUT:   56   3rd Qu.: 4.00  \n",
       " 110205 :  105   GEL    :1294   1528816GTEL:   56   Max.   :99.00  \n",
       " (Other):23322   (Other):9236   (Other)    :23744                  \n",
       "      ANO              PERIODO      IND_GERADA  ID_PROCESSAMENTO\n",
       " Min.   :2016   1º Semestre:24126   Não:24126   Min.   : 0.00   \n",
       " 1st Qu.:2016                                   1st Qu.:47.00   \n",
       " Median :2016                                   Median :47.00   \n",
       " Mean   :2016                                   Mean   :42.08   \n",
       " 3rd Qu.:2016                                   3rd Qu.:47.00   \n",
       " Max.   :2016                                   Max.   :47.00   \n",
       "                                                                \n",
       "  HR_SOLICITACAO \n",
       " 23:17:06:   63  \n",
       " 18:43:06:   56  \n",
       " 15:39:53:   54  \n",
       " 00:27:43:   52  \n",
       " 17:12:39:   50  \n",
       " 22:44:39:   48  \n",
       " (Other) :23803  "
      ]
     },
     "metadata": {},
     "output_type": "display_data"
    }
   ],
   "source": [
    "#'Analise Exploratoria'#\n",
    "summary(arquivo) \n"
   ]
  },
  {
   "cell_type": "markdown",
   "metadata": {},
   "source": [
    "##### 2) Gráficos das Variáveis Categóricas"
   ]
  },
  {
   "cell_type": "code",
   "execution_count": 11,
   "metadata": {
    "scrolled": true
   },
   "outputs": [
    {
     "data": {},
     "metadata": {},
     "output_type": "display_data"
    },
    {
     "data": {
      "image/png": "[encoded data removed]",
      "text/plain": [
       "plot without title"
      ]
     },
     "metadata": {},
     "output_type": "display_data"
    }
   ],
   "source": [
    "#'Variaveis Categoricas - Graficos de Barras'#\n",
    "\n",
    "#'Variavel SITUACAO'#\n",
    "dataset_bar1 <- function() {\n",
    "  series <- matrix(nrow=6, ncol=2)\n",
    "  series[1,] = c(\"Cancelada\", 2524)\n",
    "  series[2,] = c(\"Vagas\", 1508)\n",
    "  series[3,] = c(\"P-Requisito\", 1262)\n",
    "  series[4,] = c(\"M/A\", 962)\n",
    "  series[5,] = c(\"Choque H\", 532)\n",
    "  series[6,] = c(\"Outros\", 29)\n",
    "  series <- data.frame(variable=as.factor(series[,1]), value=as.double(series[,2]))  \n",
    "  return(series)\n",
    "}\n",
    "series <- dataset_bar1()\n",
    "grf1 <- plot.bar(series, colors=mycolors1)+ ggtitle(\"Tipos de Rejeição de Matrícula\")+xlab(\"Rejeição\") +ylab(\"Observações\")\n",
    "grf1\n"
   ]
  },
  {
   "cell_type": "code",
   "execution_count": 12,
   "metadata": {
    "scrolled": true
   },
   "outputs": [
    {
     "data": {},
     "metadata": {},
     "output_type": "display_data"
    },
    {
     "data": {
      "image/png": "[encoded data removed]",
      "text/plain": [
       "plot without title"
      ]
     },
     "metadata": {},
     "output_type": "display_data"
    }
   ],
   "source": [
    "#'Variavel UNIDADE'#\n",
    "dataset_bar2 <- function() {\n",
    "  series <- matrix(nrow=5, ncol=2)\n",
    "  series[1,] = c(\"ANG\", 819)\n",
    "  series[2,] = c(\"IT\", 1570)\n",
    "  series[3,] = c(\"MAR\", 18915)\n",
    "  series[4,] = c(\"NF\", 1358)\n",
    "  series[5,] = c(\"PET\", 1464)\n",
    "  series <- data.frame(variable=as.factor(series[,1]), value=as.double(series[,2]))  \n",
    "  return(series)\n",
    "}\n",
    "series <- dataset_bar2()\n",
    "grf2 <- plot.bar(series, colors=mycolors2)+ ggtitle(\"Solicitações de Matrícula por Unidade\")+xlab(\"Unidade\") +ylab(\"Solicitações\")\n",
    "grf2\n"
   ]
  },
  {
   "cell_type": "code",
   "execution_count": 13,
   "metadata": {
    "scrolled": true
   },
   "outputs": [
    {
     "data": {},
     "metadata": {},
     "output_type": "display_data"
    },
    {
     "data": {
      "image/png": "[encoded data removed]",
      "text/plain": [
       "plot without title"
      ]
     },
     "metadata": {},
     "output_type": "display_data"
    }
   ],
   "source": [
    "#'Variavel DT_SOLICITACAO'#\n",
    "dataset_bar3 <- function() {\n",
    "  series <- matrix(nrow=8, ncol=2)\n",
    "  series[1,] = c(\"DIA 1\", 13027)\n",
    "  series[2,] = c(\"DIA 2\", 5160)\n",
    "  series[3,] = c(\"DIA 3\", 346)\n",
    "  series[4,] = c(\"DIA 4\", 1704)\n",
    "  series[5,] = c(\"DIA 5\", 1704)\n",
    "  series[6,] = c(\"DIA 6\", 1439)\n",
    "  series[7,] = c(\"DIA 7\", 722)\n",
    "  series[8,] = c(\"DIA 8\", 24)\n",
    "  series <- data.frame(variable=as.factor(series[,1]), value=as.double(series[,2]))  \n",
    "  return(series)\n",
    "}\n",
    "series <- dataset_bar3()\n",
    "grf3 <- plot.bar(series, colors=mycolors)+ ggtitle(\"Número de Solicitações por Dia\")+xlab(\"Data\") +ylab(\"Solicitações\")\n",
    "grf3\n",
    "\n",
    "#'Variaveis Categoricas'#\n"
   ]
  },
  {
   "cell_type": "markdown",
   "metadata": {},
   "source": [
    "##### 3) Gráficos das Variáveis Numéricas"
   ]
  },
  {
   "cell_type": "code",
   "execution_count": 14,
   "metadata": {
    "scrolled": true
   },
   "outputs": [
    {
     "data": {
      "text/html": [
       "'Histograma'"
      ],
      "text/latex": [
       "'Histograma'"
      ],
      "text/markdown": [
       "'Histograma'"
      ],
      "text/plain": [
       "[1] \"Histograma\""
      ]
     },
     "metadata": {},
     "output_type": "display_data"
    },
    {
     "data": {},
     "metadata": {},
     "output_type": "display_data"
    },
    {
     "data": {
      "text/html": [
       "'Q-Q Norm'"
      ],
      "text/latex": [
       "'Q-Q Norm'"
      ],
      "text/markdown": [
       "'Q-Q Norm'"
      ],
      "text/plain": [
       "[1] \"Q-Q Norm\""
      ]
     },
     "metadata": {},
     "output_type": "display_data"
    },
    {
     "data": {},
     "metadata": {},
     "output_type": "display_data"
    },
    {
     "data": {
      "image/png": "[encoded data removed]",
      "text/plain": [
       "plot without title"
      ]
     },
     "metadata": {},
     "output_type": "display_data"
    },
    {
     "data": {
      "image/png": "[encoded data removed]",
      "text/plain": [
       "plot without title"
      ]
     },
     "metadata": {},
     "output_type": "display_data"
    }
   ],
   "source": [
    "#'Variaveis Nao-Categoricas'#\n",
    "\n",
    "#'Variavel PRIOR_DISC'#\n",
    "a=data.frame(arquivo$PRIOR_DISC, arquivo$ORDEM_MATR)\n",
    "x=function(a){\n",
    "  #Discretizacao de Fatores - Faixas de PRIOR_DISC#\n",
    "  a$fS2=cut(a$arquivo.PRIOR_DISC, c(0,2000,5000,6000), include.lowest = T)#, include.lowest = T\n",
    "  table(a$fS2)\n",
    "  a$fS2=factor(as.numeric(a$fS2),levels = 1:3)\n",
    "  levels(a$fS2)=c(\"Sem Prioridade\",\"Prioridade de Curso\",\"Prioridade de Curso e Periodo\")\n",
    "  \n",
    "  return(a)\n",
    "}\n",
    "a=x(a)\n",
    "\n",
    "'Histograma'\n",
    "p1 <- ggplot(a, aes(x = a$arquivo.PRIOR_DISC, fill=a$fS2)) +\n",
    "  geom_histogram(aes(y = ..count..),binwidth = 50)+\n",
    "  scale_x_continuous(name = \"Prioridade da Disciplina\") +\n",
    "  scale_y_continuous(name = \"Contagem\")+\n",
    "  ggtitle(\"Histograma de Frequência das Prioridades de Disciplina\")+\n",
    "  theme_bw(base_size = 10) +\n",
    "  theme(panel.grid.minor = element_blank()) + theme(legend.position = \"bottom\")+\n",
    "  scale_fill_brewer(palette=\"Accent\")+\n",
    "  labs(fill=\"\")\n",
    "p1\n",
    "\n",
    "'Q-Q Norm'\n",
    "p2 <- ggplot(arquivo, aes(sample = PRIOR_DISC))+\n",
    "  xlab(\"Valor Teórico\") +ylab(\"Valor Amostral\")+\n",
    "  ggtitle(\"Q-Q Plot Rendimento Escolar dos Alunos\")+\n",
    "  theme_bw(base_size = 10)+\n",
    "  theme(panel.grid.minor = element_blank()) + theme(legend.position = \"bottom\")\n",
    "p2 + stat_qq()\n"
   ]
  },
  {
   "cell_type": "code",
   "execution_count": 15,
   "metadata": {
    "scrolled": true
   },
   "outputs": [
    {
     "data": {},
     "metadata": {},
     "output_type": "display_data"
    },
    {
     "data": {},
     "metadata": {},
     "output_type": "display_data"
    },
    {
     "data": {
      "image/png": "[encoded data removed]",
      "text/plain": [
       "plot without title"
      ]
     },
     "metadata": {},
     "output_type": "display_data"
    },
    {
     "data": {},
     "metadata": {},
     "output_type": "display_data"
    },
    {
     "data": {
      "image/png": "[encoded data removed]",
      "text/plain": [
       "plot without title"
      ]
     },
     "metadata": {},
     "output_type": "display_data"
    },
    {
     "data": {
      "image/png": "[encoded data removed]",
      "text/plain": [
       "plot without title"
      ]
     },
     "metadata": {},
     "output_type": "display_data"
    }
   ],
   "source": [
    "#'Variavel ORDEM_MATR'#\n",
    "\n",
    "#'Histograma'\n",
    "barfill <- \"#4271AE\"\n",
    "barlines <- \"#1F3552\"\n",
    "p3 <- ggplot(arquivo, aes(x = ORDEM_MATR)) +\n",
    "  geom_histogram(aes(y = ..count..),binwidth = 1, colour = barlines, fill = barfill)+\n",
    "  scale_x_continuous(name = \"Rendimento Escolar\") +\n",
    "  scale_y_continuous(name = \"Contagem\")+\n",
    "  ggtitle(\"Histograma de Frequência do Rendimento Escolar\")+\n",
    "  theme_bw(base_size = 10)+\n",
    "  theme(panel.grid.minor = element_blank()) + theme(legend.position = \"bottom\")+\n",
    "  geom_vline(xintercept = mean(arquivo$ORDEM_MATR), size = 1, colour = \"#FF3721\",\n",
    "             linetype = \"dashed\")\n",
    "p3\n",
    "\n",
    "#'Histograma Corrigido'\n",
    "\n",
    "#Separando valores de CR repetidos#\n",
    "cr=data.frame(arquivo$ORDEM_MATR,arquivo$MATR_ALUNO)\n",
    "c=1\n",
    "for(a in cr$arquivo.MATR_ALUNO){\n",
    "  if(a==cr$arquivo.MATR_ALUNO[c+1]){\n",
    "    cr$cr_ajustado[c]=T\n",
    "  }else{\n",
    "    cr$cr_ajustado[c]=F\n",
    "  }\n",
    "  c=c+1\n",
    "  if(c==24126){\n",
    "    cr$cr_ajustado[c]=F\n",
    "    break;\n",
    "  }\n",
    "}\n",
    "#Separando valores de CR repetidos#\n",
    "\n",
    "t=data.frame(cr$arquivo.ORDEM_MATR[cr$cr_ajustado==F])\n",
    "\n",
    "p4 <- ggplot(t, aes(x = cr.arquivo.ORDEM_MATR.cr.cr_ajustado....F.)) +\n",
    "  geom_histogram(aes(y = ..count..),binwidth = 1, colour = barlines, fill = barfill)+\n",
    "  scale_x_continuous(name = \"Rendimento Escolar\") +\n",
    "  scale_y_continuous(name = \"Contagem\")+\n",
    "  ggtitle(\"Histograma de Frequência do Rendimento Escolar Corrigido\")+\n",
    "  theme_bw(base_size = 10)+\n",
    "  theme(panel.grid.minor = element_blank()) + theme(legend.position = \"bottom\")+\n",
    "  geom_vline(xintercept = mean(t$cr.arquivo.ORDEM_MATR.cr.cr_ajustado....F.), size = 1, colour = \"#FF3721\",\n",
    "             linetype = \"dashed\")\n",
    "p4\n",
    "\n",
    "#'Q-Q Norm'\n",
    "p5 <- ggplot(arquivo, aes(sample = ORDEM_MATR))+\n",
    "  xlab(\"Valor Teórico\") +ylab(\"Valor Amostral\")+\n",
    "  ggtitle(\"Q-Q Plot Rendimento Escolar dos Alunos\")+\n",
    "  theme_bw(base_size = 10)+\n",
    "  theme(panel.grid.minor = element_blank()) + theme(legend.position = \"bottom\")\n",
    "p5 + stat_qq()\n"
   ]
  },
  {
   "cell_type": "markdown",
   "metadata": {},
   "source": [
    "O atributo ORDEM_MATR que se refere ao CR de cada aluno possui valores repetidos, uma vez que cada aluno faz mais de uma solicitação de disciplina. Portanto é necessário preprocessar os dados de ORDEM_MATR filtrando os valores de matrícula repetidos (MATR_ALUNO). Entretanto, não houve mudança significativa com este preprocessamento!"
   ]
  },
  {
   "cell_type": "code",
   "execution_count": 16,
   "metadata": {
    "scrolled": true
   },
   "outputs": [
    {
     "data": {},
     "metadata": {},
     "output_type": "display_data"
    },
    {
     "data": {
      "text/html": [
       "'Coeficiente de Correlacao de Pearson'"
      ],
      "text/latex": [
       "'Coeficiente de Correlacao de Pearson'"
      ],
      "text/markdown": [
       "'Coeficiente de Correlacao de Pearson'"
      ],
      "text/plain": [
       "[1] \"Coeficiente de Correlacao de Pearson\""
      ]
     },
     "metadata": {},
     "output_type": "display_data"
    },
    {
     "data": {
      "text/html": [
       "0.207628066336639"
      ],
      "text/latex": [
       "0.207628066336639"
      ],
      "text/markdown": [
       "0.207628066336639"
      ],
      "text/plain": [
       "[1] 0.2076281"
      ]
     },
     "metadata": {},
     "output_type": "display_data"
    },
    {
     "data": {
      "image/png": "[encoded data removed]",
      "text/plain": [
       "plot without title"
      ]
     },
     "metadata": {},
     "output_type": "display_data"
    }
   ],
   "source": [
    "#'Variavel ORDEM_MATR e PRIOR_DISC'#\n",
    "\n",
    "#'Boxplots'\n",
    "dataset_series <- function() {\n",
    "  series <- data.frame(x= 1:24126, CR=arquivo$ORDEM_MATR, Prior=(arquivo$PRIOR_DISC)/1000)\n",
    "  series <- melt(series[,c('x','CR', 'Prior')],id.vars = 1)\n",
    "  return(series)  \n",
    "}\n",
    "series = dataset_series()\n",
    "grf4 <- plot.boxplot(series, colors=mycolors[1])+ggtitle(\"Boxplots dos Atributos Rendimento Escolar e Prioridade de Disciplina\")\n",
    "grf4\n",
    "\n",
    "'Coeficiente de Correlacao de Pearson'\n",
    "cor(arquivo$PRIOR_DISC,arquivo$ORDEM_MATR)\n",
    "\n",
    "#'Variaveis Nao-Categoricas'#\n",
    "\n",
    "#'Analise Exploratoria'#\n"
   ]
  },
  {
   "cell_type": "markdown",
   "metadata": {},
   "source": [
    "#### Preprocessamento de Dados\n",
    "\n",
    "##### 1) Remoção de Outliers"
   ]
  },
  {
   "cell_type": "code",
   "execution_count": 17,
   "metadata": {
    "collapsed": true
   },
   "outputs": [],
   "source": [
    "#'Preprocessamento'\n",
    "\n",
    "#'Removendo Outliers - Atributo ORDEM_MATR'\n",
    "lim=mean(arquivo$ORDEM_MATR)-3*sd(arquivo$ORDEM_MATR)\n",
    "c=1\n",
    "for(a in arquivo$ORDEM_MATR){\n",
    "  if(a<lim){\n",
    "    arquivo=arquivo[-c(c),]\n",
    "  }\n",
    "  c=c+1\n",
    "}\n",
    "#'Removendo Outliers - Atributo ORDEM_MATR'\n"
   ]
  },
  {
   "cell_type": "markdown",
   "metadata": {},
   "source": [
    "##### 2) Discretização"
   ]
  },
  {
   "cell_type": "code",
   "execution_count": 18,
   "metadata": {
    "collapsed": true
   },
   "outputs": [],
   "source": [
    "#'Discretizacao'\n",
    "arquivo_p1=data.frame(arquivo)\n",
    "discret=function(a){\n",
    "  #Discretizacao de Fatores - Faixas de PRIOR_DISC#\n",
    "  a$fPRIOR_DISC=cut(a$PRIOR_DISC, c(0,2000,5000,6000), include.lowest = T)#, include.lowest = T\n",
    "  table(a$fPRIOR_DISC)\n",
    "  a$fPRIOR_DISC=factor(as.numeric(a$fPRIOR_DISC),levels = 1:3)\n",
    "  levels(a$fPRIOR_DISC)=c(\"Sem Prioridade\",\"Prioridade de Curso\",\"Prioridade de Curso e Periodo\")\n",
    "  a$PRIOR_DISC=NULL\n",
    "  #Discretizacao de Fatores - Faixas de PRIOR_DISC#\n",
    "\n",
    "  #Discretizacao de Fatores - Faixas de ORDER_MATR (CR)#\n",
    "  a$fORDEM_MATR=cut(a$ORDEM_MATR, quantile(a$ORDEM_MATR,(0:4)/4), labels = F, include.lowest = T)#, include.lowest = T\n",
    "  table(a$fORDEM_MATR)\n",
    "  a$fORDEM_MATR=factor(as.numeric(a$fORDEM_MATR),levels = 1:4)\n",
    "  levels(a$fORDEM_MATR)=c(\"D\",\"C\",\"B\",\"A\")\n",
    "  a$ORDEM_MATR=NULL\n",
    "  #Discretizacao de Fatores - Faixas de ORDER_MATR (CR)#\n",
    "  \n",
    "  return(a)\n",
    "}\n",
    "arquivo_p1=discret(arquivo_p1)\n",
    "#'Discretizacao'\n"
   ]
  },
  {
   "cell_type": "markdown",
   "metadata": {},
   "source": [
    "##### 3) Redução de Dimensionalidade"
   ]
  },
  {
   "cell_type": "code",
   "execution_count": 19,
   "metadata": {
    "collapsed": true
   },
   "outputs": [],
   "source": [
    "#'Reducao de Dimensionalidade'\n",
    "arquivo_p1$DT_PROCESS=NULL\n",
    "arquivo_p1$SITUACAO_ITEM=NULL #'Idem a Situacao'\n",
    "arquivo_p1$ANO=NULL\n",
    "arquivo_p1$PERIODO=NULL\n",
    "arquivo_p1$IND_GERADA=NULL\n",
    "arquivo_p1$ANO=NULL\n",
    "arquivo_p1$ID_PROCESSAMENTO=NULL\n",
    "#'Reducao de Dimensionalidade'\n",
    "\n",
    "#'Preprocessamento'\n",
    "\n",
    "arquivo_p1$PERIODO_IDEAL=as.factor(arquivo_p1$PERIODO_IDEAL)\n",
    "arquivo_p1$PRIOR_TURMA=as.factor(arquivo_p1$PRIOR_TURMA)\n"
   ]
  },
  {
   "cell_type": "markdown",
   "metadata": {},
   "source": [
    "##### Nova Análise Exploratória\n",
    "\n",
    "##### Sumário de Dados"
   ]
  },
  {
   "cell_type": "code",
   "execution_count": 20,
   "metadata": {
    "scrolled": true
   },
   "outputs": [
    {
     "data": {
      "text/plain": [
       " UNIDADE                                                        NOME_UNIDADE \n",
       " ANG:  810   MAR - CURSO DE ENGENHARIA DE PRODUÇÃO                    :3417  \n",
       " IT : 1533   MAR - CURSO DE ENGENHARIA MECÂNICA                       :3212  \n",
       " MAR:18679   MAR - CURSO DE ENGENHARIA CIVIL                          :3097  \n",
       " NF : 1341   MAR - CURSO DE ADMINISTRAÇÃO INDUSTRIAL                  :2141  \n",
       " PET: 1443   IT - CURSO DE ENGENHARIA HABILITAÇÃO INDUSTRIAL  MECÂNICA:1533  \n",
       "             MAR - CURSO DE ENGENHARIA  ELÉTRICA                      :1289  \n",
       "             (Other)                                                  :9117  \n",
       "    DT_SOLICITACAO   COD_DISCIPLINA                          NOME_DISCIPLINA \n",
       " 14/01/2016:12845   GEXT7303:  462   EQUAÇÕES DIFERENCIAIS ORDINÁRIAS:  572  \n",
       " 15/01/2016: 5087   GEXT7502:  421   ÁLGEBRA LINEAR II               :  542  \n",
       " 17/01/2016: 1690   GEXT7401:  417   CÁLCULO A VÁRIAS VARIÁVEIS      :  504  \n",
       " 18/01/2016: 1685   GEXT7302:  410   COMPUTAÇÃO                      :  483  \n",
       " 19/01/2016: 1422   GEDA7601:  367   METODOLOGIA CIENTÍFICA          :  430  \n",
       " 20/01/2016:  714   GEXT7503:  354   CÁLCULO VETORIAL                :  410  \n",
       " (Other)   :  363   (Other) :21375   (Other)                         :20865  \n",
       " PERIODO_IDEAL   PRIOR_TURMA                                SITUACAO    \n",
       " 2      :4749   1      :3248   Aceita/Matriculada               :17073  \n",
       " 3      :4029   2      :3079   Solicitação  Cancelada           : 2496  \n",
       " 4      :2821   3      :2974   Rejeitada/Falta de Vagas         : 1490  \n",
       " 5      :2637   4      :2827   Rejeitada/Falta de Pré-Requisito : 1247  \n",
       " 0      :2154   5      :2591   Rejeitada/Matriculado ou Aprovado:  948  \n",
       " 6      :1828   6      :2223   Rejeitada/Choque de Horário      :  524  \n",
       " (Other):5588   (Other):6864   (Other)                          :   28  \n",
       "   COD_TURMA       COD_CURSO          MATR_ALUNO     HR_SOLICITACAO \n",
       " 2      :  156   GPROD  :3417   1518218GELT:   72   23:17:06:   63  \n",
       " EM-5N  :  154   GMEC   :3212   1528847GMEC:   68   18:43:06:   56  \n",
       " EM7N   :  144   GCIV   :3097   1528492GPRO:   65   15:39:53:   54  \n",
       " 930001 :  121   GADM   :2141   1529238GTEL:   65   00:27:43:   52  \n",
       " 440082 :  110   GMECIT :1533   1422271GAUT:   56   17:12:39:   50  \n",
       " 110205 :  103   GEL    :1289   1528816GTEL:   56   22:44:39:   48  \n",
       " (Other):23018   (Other):9117   (Other)    :23424   (Other) :23483  \n",
       "                        fPRIOR_DISC   fORDEM_MATR\n",
       " Sem Prioridade               :6480   D:5964     \n",
       " Prioridade de Curso          :9949   C:5971     \n",
       " Prioridade de Curso e Periodo:7377   B:5974     \n",
       "                                      A:5897     \n",
       "                                                 \n",
       "                                                 \n",
       "                                                 "
      ]
     },
     "metadata": {},
     "output_type": "display_data"
    }
   ],
   "source": [
    "#Analise Exploratoria 2#\n",
    "summary(arquivo_p1)"
   ]
  },
  {
   "cell_type": "markdown",
   "metadata": {},
   "source": [
    "##### Gráficos de Variáveis Discretizadas"
   ]
  },
  {
   "cell_type": "code",
   "execution_count": 21,
   "metadata": {
    "scrolled": true
   },
   "outputs": [
    {
     "data": {},
     "metadata": {},
     "output_type": "display_data"
    },
    {
     "data": {
      "image/png": "[encoded data removed]",
      "text/plain": [
       "plot without title"
      ]
     },
     "metadata": {},
     "output_type": "display_data"
    }
   ],
   "source": [
    "#'Variavel fPRIOR_DISC'#\n",
    "dataset_bar4 <- function() {\n",
    "  series <- matrix(nrow=3, ncol=2)\n",
    "  series[1,] = c(\"Nenhuma\", 6480)\n",
    "  series[2,] = c(\"Curso\", 9949)\n",
    "  series[3,] = c(\"Curso e Período\", 7377)\n",
    "  series <- data.frame(variable=as.factor(series[,1]), value=as.double(series[,2]))  \n",
    "  return(series)\n",
    "}\n",
    "series <- dataset_bar4()\n",
    "grf5 <- plot.bar(series, colors=mycolors3)+ ggtitle(\"Níveis de Prioridade de Disciplina\")+xlab(\"Prioridade\") +ylab(\"Observações\")\n",
    "grf5\n",
    "\n",
    "#Analise Exploratoria 2#"
   ]
  },
  {
   "cell_type": "markdown",
   "metadata": {},
   "source": [
    "#### Função de Mineração\n",
    "\n",
    "##### Padrões Frequentes"
   ]
  },
  {
   "cell_type": "markdown",
   "metadata": {},
   "source": [
    "###### Regras encontradas"
   ]
  },
  {
   "cell_type": "code",
   "execution_count": 22,
   "metadata": {
    "scrolled": true
   },
   "outputs": [
    {
     "name": "stdout",
     "output_type": "stream",
     "text": [
      "Apriori\n",
      "\n",
      "Parameter specification:\n",
      " confidence minval smax arem  aval originalSupport maxtime support minlen\n",
      "        0.1    0.1    1 none FALSE            TRUE       5   0.001      1\n",
      " maxlen target   ext\n",
      "      4  rules FALSE\n",
      "\n",
      "Algorithmic control:\n",
      " filter tree heap memopt load sort verbose\n",
      "    0.1 TRUE TRUE  FALSE TRUE    2    TRUE\n",
      "\n",
      "Absolute minimum support count: 23 \n",
      "\n",
      "set item appearances ...[1 item(s)] done [0.00s].\n",
      "set transactions ...[11009 item(s), 23806 transaction(s)] done [0.03s].\n",
      "sorting and recoding items ... [1146 item(s)] done [0.00s].\n",
      "creating transaction tree ... done [0.01s].\n",
      "checking subsets of size 1 2 3 4"
     ]
    },
    {
     "name": "stderr",
     "output_type": "stream",
     "text": [
      "Warning message in apriori(aTrans, list(supp = 0.001, conf = 0.1, maxlen = 4), appearance = list(rhs = c(\"SITUACAO=Rejeitada/Choque de Horário\"), :\n",
      "\"Mining stopped (maxlen reached). Only patterns up to a length of 4 returned!\""
     ]
    },
    {
     "name": "stdout",
     "output_type": "stream",
     "text": [
      " done [0.14s].\n",
      "writing ... [20 rule(s)] done [0.02s].\n",
      "creating S4 object  ... done [0.01s].\n",
      "Apriori\n",
      "\n",
      "Parameter specification:\n",
      " confidence minval smax arem  aval originalSupport maxtime support minlen\n",
      "        0.1    0.1    1 none FALSE            TRUE       5   0.001      1\n",
      " maxlen target   ext\n",
      "      4  rules FALSE\n",
      "\n",
      "Algorithmic control:\n",
      " filter tree heap memopt load sort verbose\n",
      "    0.1 TRUE TRUE  FALSE TRUE    2    TRUE\n",
      "\n",
      "Absolute minimum support count: 23 \n",
      "\n",
      "set item appearances ...[1 item(s)] done [0.00s].\n",
      "set transactions ...[11009 item(s), 23806 transaction(s)] done [0.03s].\n",
      "sorting and recoding items ... [1146 item(s)] done [0.00s].\n",
      "creating transaction tree ... done [0.01s].\n",
      "checking subsets of size 1 2 3 4"
     ]
    },
    {
     "name": "stderr",
     "output_type": "stream",
     "text": [
      "Warning message in apriori(aTrans, list(supp = 0.001, conf = 0.1, maxlen = 4), appearance = list(rhs = c(\"SITUACAO=Rejeitada/Falta de Pré-Requisito\"), :\n",
      "\"Mining stopped (maxlen reached). Only patterns up to a length of 4 returned!\""
     ]
    },
    {
     "name": "stdout",
     "output_type": "stream",
     "text": [
      " done [0.13s].\n",
      "writing ... [431 rule(s)] done [0.02s].\n",
      "creating S4 object  ... done [0.01s].\n",
      "Apriori\n",
      "\n",
      "Parameter specification:\n",
      " confidence minval smax arem  aval originalSupport maxtime support minlen\n",
      "        0.1    0.1    1 none FALSE            TRUE       5   0.001      1\n",
      " maxlen target   ext\n",
      "      4  rules FALSE\n",
      "\n",
      "Algorithmic control:\n",
      " filter tree heap memopt load sort verbose\n",
      "    0.1 TRUE TRUE  FALSE TRUE    2    TRUE\n",
      "\n",
      "Absolute minimum support count: 23 \n",
      "\n",
      "set item appearances ...[1 item(s)] done [0.00s].\n",
      "set transactions ...[11009 item(s), 23806 transaction(s)] done [0.05s].\n",
      "sorting and recoding items ... [1146 item(s)] done [0.01s].\n",
      "creating transaction tree ... done [0.02s].\n",
      "checking subsets of size 1 2 3 4"
     ]
    },
    {
     "name": "stderr",
     "output_type": "stream",
     "text": [
      "Warning message in apriori(aTrans, list(supp = 0.001, conf = 0.1, maxlen = 4), appearance = list(rhs = c(\"SITUACAO=Rejeitada/Falta de Vagas\"), :\n",
      "\"Mining stopped (maxlen reached). Only patterns up to a length of 4 returned!\""
     ]
    },
    {
     "name": "stdout",
     "output_type": "stream",
     "text": [
      " done [0.18s].\n",
      "writing ... [1859 rule(s)] done [0.02s].\n",
      "creating S4 object  ... done [0.01s].\n"
     ]
    }
   ],
   "source": [
    "#Padroes Frequentes#\n",
    "aTrans = as(arquivo_p1, \"transactions\")\n",
    "rules=apriori(aTrans, list(supp=0.001, conf=0.1, maxlen=4), appearance=list(rhs=c(\"SITUACAO=Rejeitada/Choque de Horário\"), default=\"lhs\"))\n",
    "rules_c=as(rules, \"data.frame\")\n",
    "\n",
    "aTrans = as(arquivo_p1, \"transactions\")\n",
    "rules=apriori(aTrans, list(supp=0.001, conf=0.1, maxlen=4), appearance=list(rhs=c(\"SITUACAO=Rejeitada/Falta de Pré-Requisito\"), default=\"lhs\"))\n",
    "rules_d=as(rules, \"data.frame\")\n",
    "\n",
    "aTrans = as(arquivo_p1, \"transactions\")\n",
    "rules=apriori(aTrans, list(supp=0.001, conf=0.1, maxlen=4), appearance=list(rhs=c(\"SITUACAO=Rejeitada/Falta de Vagas\"), default=\"lhs\"))\n",
    "rules_e=as(rules, \"data.frame\")\n",
    "\n",
    "choque<-rules_c[!duplicated(rules_c$lift), ]\n",
    "requisito<-rules_d[!duplicated(rules_d$lift), ]\n",
    "vagas<-rules_e[!duplicated(rules_e$lift), ]\n",
    "\n",
    "requisito=requisito[requisito$confidence>=0.3,]\n",
    "vagas=vagas[vagas$confidence>=0.5,]\n",
    "o = order(vagas$confidence, decreasing = T)\n",
    "vagas.sorted=vagas[o,]\n",
    "\n",
    "regras1=vagas.sorted[-c(3,4,6,25,27,31,32,34,39,46,48,52,53,54,57,58,66,69,72,74,75,76,82),]\n",
    "\n",
    "regras2=subset(requisito, confidence>=0.36)\n",
    "regras2=regras2[-c(2),]\n",
    "\n",
    "o = order(regras2$confidence, decreasing = T)\n",
    "regras2=regras2[o,]\n",
    "\n",
    "regras=rbind(regras1,regras2)\n",
    "o = order(regras$confidence, decreasing = T)\n",
    "regras=regras[o,]"
   ]
  },
  {
   "cell_type": "markdown",
   "metadata": {},
   "source": [
    "###### Regras Geradas"
   ]
  },
  {
   "cell_type": "code",
   "execution_count": 23,
   "metadata": {
    "collapsed": true,
    "scrolled": true
   },
   "outputs": [],
   "source": [
    "esperado=regras[c(1,8,12,14,15,17,24),]\n",
    "\n",
    "turma=regras[c(6,16,20,22,32,34,36,41,51,55,63),]\n",
    "o = order(turma$lift, decreasing = T)\n",
    "turma=turma[o,]\n",
    "dataset_bar6 <- function() {\n",
    "  series <- matrix(nrow=9, ncol=2)\n",
    "  series[1,] = c(\"405959\", turma$lift[1])\n",
    "  series[2,] = c(\"1000IT\", turma$lift[3])\n",
    "  series[3,] = c(\"101027\", turma$lift[4])\n",
    "  series[4,] = c(\"106699\", turma$lift[5])\n",
    "  series[5,] = c(\"400001\", turma$lift[6])\n",
    "  series[6,] = c(\"1003IT\", turma$lift[7])\n",
    "  series[7,] = c(\"145\", turma$lift[8])\n",
    "  series[8,] = c(\"930001\", turma$lift[9])\n",
    "  series[9,] = c(\"490001\", turma$lift[10])\n",
    "  series <- data.frame(variable=as.factor(series[,1]), value=as.double(series[,2]))  \n",
    "  return(series)\n",
    "}\n",
    "series <- dataset_bar6()\n",
    "grf6 <- plot.bar(series, colors=mycolors4)+xlab(\"Turma\") +ylab(\"Lift\")\n",
    "\n",
    "interessante=regras[c(5,11,21,26,29,31,38,39,42,48,65),]\n"
   ]
  },
  {
   "cell_type": "markdown",
   "metadata": {},
   "source": [
    "Regras de associação esperadas"
   ]
  },
  {
   "cell_type": "code",
   "execution_count": 24,
   "metadata": {},
   "outputs": [
    {
     "data": {
      "text/html": [
       "<table>\n",
       "<thead><tr><th></th><th scope=col>rules</th><th scope=col>support</th><th scope=col>confidence</th><th scope=col>lift</th></tr></thead>\n",
       "<tbody>\n",
       "\t<tr><th scope=row>823</th><td><span style=white-space:pre-wrap>{COD_TURMA=1206IT,fPRIOR_DISC=Prioridade de Curso,fORDEM_MATR=D} =&gt; {SITUACAO=Rejeitada/Falta de Vagas}                 </span></td><td>0.001050155                                                                                                                                                        </td><td>1.0000000                                                                                                                                                          </td><td>15.97718                                                                                                                                                           </td></tr>\n",
       "\t<tr><th scope=row>101</th><td><span style=white-space:pre-wrap>{COD_DISCIPLINA=GEXT7301IT,fORDEM_MATR=D} =&gt; {SITUACAO=Rejeitada/Falta de Vagas}                                        </span></td><td>0.001344199                                                                                                                                                        </td><td>0.7804878                                                                                                                                                          </td><td>12.47000                                                                                                                                                           </td></tr>\n",
       "\t<tr><th scope=row>945</th><td>{COD_DISCIPLINA=GEXT7501,fPRIOR_DISC=Prioridade de Curso e Periodo,fORDEM_MATR=D} =&gt; {SITUACAO=Rejeitada/Falta de Vagas}</td><td>0.001092162                                                                                                                </td><td>0.7647059                                                                                                                  </td><td>12.21784                                                                                                                   </td></tr>\n",
       "\t<tr><th scope=row>93</th><td><span style=white-space:pre-wrap>{COD_TURMA=145,fPRIOR_DISC=Sem Prioridade} =&gt; {SITUACAO=Rejeitada/Falta de Vagas}                                       </span></td><td>0.001092162                                                                                                                                                        </td><td>0.7428571                                                                                                                                                          </td><td>11.86876                                                                                                                                                           </td></tr>\n",
       "\t<tr><th scope=row>22</th><td><span style=white-space:pre-wrap>{COD_TURMA=405959,fPRIOR_DISC=Prioridade de Curso} =&gt; {SITUACAO=Rejeitada/Falta de Pré-Requisito}                       </span></td><td>0.001260187                                                                                                                                                        </td><td>0.7317073                                                                                                                                                          </td><td>13.96874                                                                                                                                                           </td></tr>\n",
       "\t<tr><th scope=row>114</th><td><span style=white-space:pre-wrap>{COD_TURMA=101027,fORDEM_MATR=D} =&gt; {SITUACAO=Rejeitada/Falta de Vagas}                                                 </span></td><td>0.001092162                                                                                                                                                        </td><td>0.7222222                                                                                                                                                          </td><td>11.53908                                                                                                                                                           </td></tr>\n",
       "\t<tr><th scope=row>919</th><td><span style=white-space:pre-wrap>{COD_TURMA=930001,fPRIOR_DISC=Sem Prioridade,fORDEM_MATR=C} =&gt; {SITUACAO=Rejeitada/Falta de Vagas}                      </span></td><td>0.001008149                                                                                                                                                        </td><td>0.6857143                                                                                                                                                          </td><td>10.95578                                                                                                                                                           </td></tr>\n",
       "</tbody>\n",
       "</table>\n"
      ],
      "text/latex": [
       "\\begin{tabular}{r|llll}\n",
       "  & rules & support & confidence & lift\\\\\n",
       "\\hline\n",
       "\t823 & \\{COD\\_TURMA=1206IT,fPRIOR\\_DISC=Prioridade de Curso,fORDEM\\_MATR=D\\} => \\{SITUACAO=Rejeitada/Falta de Vagas\\}                  & 0.001050155                                                                                                                            & 1.0000000                                                                                                                              & 15.97718                                                                                                                              \\\\\n",
       "\t101 & \\{COD\\_DISCIPLINA=GEXT7301IT,fORDEM\\_MATR=D\\} => \\{SITUACAO=Rejeitada/Falta de Vagas\\}                                         & 0.001344199                                                                                                                          & 0.7804878                                                                                                                            & 12.47000                                                                                                                            \\\\\n",
       "\t945 & \\{COD\\_DISCIPLINA=GEXT7501,fPRIOR\\_DISC=Prioridade de Curso e Periodo,fORDEM\\_MATR=D\\} => \\{SITUACAO=Rejeitada/Falta de Vagas\\} & 0.001092162                                                                                                                            & 0.7647059                                                                                                                              & 12.21784                                                                                                                              \\\\\n",
       "\t93 & \\{COD\\_TURMA=145,fPRIOR\\_DISC=Sem Prioridade\\} => \\{SITUACAO=Rejeitada/Falta de Vagas\\}                                        & 0.001092162                                                                                                                          & 0.7428571                                                                                                                            & 11.86876                                                                                                                            \\\\\n",
       "\t22 & \\{COD\\_TURMA=405959,fPRIOR\\_DISC=Prioridade de Curso\\} => \\{SITUACAO=Rejeitada/Falta de Pré-Requisito\\}                        & 0.001260187                                                                                                                          & 0.7317073                                                                                                                            & 13.96874                                                                                                                            \\\\\n",
       "\t114 & \\{COD\\_TURMA=101027,fORDEM\\_MATR=D\\} => \\{SITUACAO=Rejeitada/Falta de Vagas\\}                                                  & 0.001092162                                                                                                                          & 0.7222222                                                                                                                            & 11.53908                                                                                                                            \\\\\n",
       "\t919 & \\{COD\\_TURMA=930001,fPRIOR\\_DISC=Sem Prioridade,fORDEM\\_MATR=C\\} => \\{SITUACAO=Rejeitada/Falta de Vagas\\}                       & 0.001008149                                                                                                                            & 0.6857143                                                                                                                              & 10.95578                                                                                                                              \\\\\n",
       "\\end{tabular}\n"
      ],
      "text/markdown": [
       "\n",
       "| <!--/--> | rules | support | confidence | lift | \n",
       "|---|---|---|---|---|---|---|\n",
       "| 823 | {COD_TURMA=1206IT,fPRIOR_DISC=Prioridade de Curso,fORDEM_MATR=D} => {SITUACAO=Rejeitada/Falta de Vagas}                  | 0.001050155                                                                                                              | 1.0000000                                                                                                                | 15.97718                                                                                                                 | \n",
       "| 101 | {COD_DISCIPLINA=GEXT7301IT,fORDEM_MATR=D} => {SITUACAO=Rejeitada/Falta de Vagas}                                         | 0.001344199                                                                                                              | 0.7804878                                                                                                                | 12.47000                                                                                                                 | \n",
       "| 945 | {COD_DISCIPLINA=GEXT7501,fPRIOR_DISC=Prioridade de Curso e Periodo,fORDEM_MATR=D} => {SITUACAO=Rejeitada/Falta de Vagas} | 0.001092162                                                                                                              | 0.7647059                                                                                                                | 12.21784                                                                                                                 | \n",
       "| 93 | {COD_TURMA=145,fPRIOR_DISC=Sem Prioridade} => {SITUACAO=Rejeitada/Falta de Vagas}                                        | 0.001092162                                                                                                              | 0.7428571                                                                                                                | 11.86876                                                                                                                 | \n",
       "| 22 | {COD_TURMA=405959,fPRIOR_DISC=Prioridade de Curso} => {SITUACAO=Rejeitada/Falta de Pré-Requisito}                        | 0.001260187                                                                                                              | 0.7317073                                                                                                                | 13.96874                                                                                                                 | \n",
       "| 114 | {COD_TURMA=101027,fORDEM_MATR=D} => {SITUACAO=Rejeitada/Falta de Vagas}                                                  | 0.001092162                                                                                                              | 0.7222222                                                                                                                | 11.53908                                                                                                                 | \n",
       "| 919 | {COD_TURMA=930001,fPRIOR_DISC=Sem Prioridade,fORDEM_MATR=C} => {SITUACAO=Rejeitada/Falta de Vagas}                       | 0.001008149                                                                                                              | 0.6857143                                                                                                                | 10.95578                                                                                                                 | \n",
       "\n",
       "\n"
      ],
      "text/plain": [
       "    rules                                                                                                                   \n",
       "823 {COD_TURMA=1206IT,fPRIOR_DISC=Prioridade de Curso,fORDEM_MATR=D} => {SITUACAO=Rejeitada/Falta de Vagas}                 \n",
       "101 {COD_DISCIPLINA=GEXT7301IT,fORDEM_MATR=D} => {SITUACAO=Rejeitada/Falta de Vagas}                                        \n",
       "945 {COD_DISCIPLINA=GEXT7501,fPRIOR_DISC=Prioridade de Curso e Periodo,fORDEM_MATR=D} => {SITUACAO=Rejeitada/Falta de Vagas}\n",
       "93  {COD_TURMA=145,fPRIOR_DISC=Sem Prioridade} => {SITUACAO=Rejeitada/Falta de Vagas}                                       \n",
       "22  {COD_TURMA=405959,fPRIOR_DISC=Prioridade de Curso} => {SITUACAO=Rejeitada/Falta de Pré-Requisito}                       \n",
       "114 {COD_TURMA=101027,fORDEM_MATR=D} => {SITUACAO=Rejeitada/Falta de Vagas}                                                 \n",
       "919 {COD_TURMA=930001,fPRIOR_DISC=Sem Prioridade,fORDEM_MATR=C} => {SITUACAO=Rejeitada/Falta de Vagas}                      \n",
       "    support     confidence lift    \n",
       "823 0.001050155 1.0000000  15.97718\n",
       "101 0.001344199 0.7804878  12.47000\n",
       "945 0.001092162 0.7647059  12.21784\n",
       "93  0.001092162 0.7428571  11.86876\n",
       "22  0.001260187 0.7317073  13.96874\n",
       "114 0.001092162 0.7222222  11.53908\n",
       "919 0.001008149 0.6857143  10.95578"
      ]
     },
     "metadata": {},
     "output_type": "display_data"
    }
   ],
   "source": [
    "esperado"
   ]
  },
  {
   "cell_type": "markdown",
   "metadata": {},
   "source": [
    "Regras de associação interessantes - lenght ==1"
   ]
  },
  {
   "cell_type": "code",
   "execution_count": 25,
   "metadata": {},
   "outputs": [
    {
     "data": {
      "text/html": [
       "<table>\n",
       "<thead><tr><th></th><th scope=col>rules</th><th scope=col>support</th><th scope=col>confidence</th><th scope=col>lift</th></tr></thead>\n",
       "<tbody>\n",
       "\t<tr><th scope=row>12</th><td><span style=white-space:pre-wrap>{COD_TURMA=405959} =&gt; {SITUACAO=Rejeitada/Falta de Pré-Requisito}        </span></td><td>0.001260187                                                                                                         </td><td>0.6976744                                                                                                           </td><td>13.319035                                                                                                           </td></tr>\n",
       "\t<tr><th scope=row>94</th><td><span style=white-space:pre-wrap>{UNIDADE=MAR,COD_TURMA=145} =&gt; {SITUACAO=Rejeitada/Falta de Vagas}       </span></td><td>0.001092162                                                                                                         </td><td>0.7878788                                                                                                           </td><td>12.588082                                                                                                           </td></tr>\n",
       "\t<tr><th scope=row>8</th><td><span style=white-space:pre-wrap>{COD_DISCIPLINA=GEXT7301IT} =&gt; {SITUACAO=Rejeitada/Falta de Vagas}       </span></td><td>0.001344199                                                                                                         </td><td>0.7272727                                                                                                           </td><td>11.619768                                                                                                           </td></tr>\n",
       "\t<tr><th scope=row>10</th><td><span style=white-space:pre-wrap>{COD_TURMA=101027} =&gt; {SITUACAO=Rejeitada/Falta de Vagas}                </span></td><td>0.001302193                                                                                                         </td><td>0.7045455                                                                                                           </td><td>11.256650                                                                                                           </td></tr>\n",
       "\t<tr><th scope=row>2</th><td><span style=white-space:pre-wrap>{COD_DISCIPLINA=GMEC7606} =&gt; {SITUACAO=Rejeitada/Falta de Vagas}         </span></td><td>0.001134168                                                                                                         </td><td>0.6428571                                                                                                           </td><td>10.271045                                                                                                           </td></tr>\n",
       "\t<tr><th scope=row>1</th><td><span style=white-space:pre-wrap>{COD_TURMA=400001} =&gt; {SITUACAO=Rejeitada/Falta de Vagas}                </span></td><td>0.001092162                                                                                                         </td><td>0.6341463                                                                                                           </td><td>10.131871                                                                                                           </td></tr>\n",
       "\t<tr><th scope=row>5</th><td><span style=white-space:pre-wrap>{COD_DISCIPLINA=GEXT7702IT} =&gt; {SITUACAO=Rejeitada/Falta de Vagas}       </span></td><td>0.001134168                                                                                                         </td><td>0.6279070                                                                                                           </td><td>10.032184                                                                                                           </td></tr>\n",
       "\t<tr><th scope=row>7</th><td><span style=white-space:pre-wrap>{COD_TURMA=145} =&gt; {SITUACAO=Rejeitada/Falta de Vagas}                   </span></td><td>0.001092162                                                                                                         </td><td>0.6046512                                                                                                           </td><td> 9.660621                                                                                                           </td></tr>\n",
       "\t<tr><th scope=row>25</th><td><span style=white-space:pre-wrap>{COD_TURMA=930001} =&gt; {SITUACAO=Rejeitada/Falta de Vagas}                </span></td><td>0.002772410                                                                                                         </td><td>0.5454545                                                                                                           </td><td> 8.714826                                                                                                           </td></tr>\n",
       "\t<tr><th scope=row>11</th><td><span style=white-space:pre-wrap>{COD_TURMA=490001} =&gt; {SITUACAO=Rejeitada/Falta de Vagas}                </span></td><td>0.001050155                                                                                                         </td><td>0.5319149                                                                                                           </td><td> 8.498501                                                                                                           </td></tr>\n",
       "\t<tr><th scope=row>30</th><td>{NOME_DISCIPLINA=ÁLGEBRA LINEAR I} =&gt; {SITUACAO=Rejeitada/Falta de Vagas}</td><td>0.003612535                                                                 </td><td>0.5029240                                                                   </td><td> 8.035308                                                                   </td></tr>\n",
       "</tbody>\n",
       "</table>\n"
      ],
      "text/latex": [
       "\\begin{tabular}{r|llll}\n",
       "  & rules & support & confidence & lift\\\\\n",
       "\\hline\n",
       "\t12 & \\{COD\\_TURMA=405959\\} => \\{SITUACAO=Rejeitada/Falta de Pré-Requisito\\}         & 0.001260187                                                                         & 0.6976744                                                                           & 13.319035                                                                          \\\\\n",
       "\t94 & \\{UNIDADE=MAR,COD\\_TURMA=145\\} => \\{SITUACAO=Rejeitada/Falta de Vagas\\}        & 0.001092162                                                                         & 0.7878788                                                                           & 12.588082                                                                          \\\\\n",
       "\t8 & \\{COD\\_DISCIPLINA=GEXT7301IT\\} => \\{SITUACAO=Rejeitada/Falta de Vagas\\}        & 0.001344199                                                                         & 0.7272727                                                                           & 11.619768                                                                          \\\\\n",
       "\t10 & \\{COD\\_TURMA=101027\\} => \\{SITUACAO=Rejeitada/Falta de Vagas\\}                 & 0.001302193                                                                         & 0.7045455                                                                           & 11.256650                                                                          \\\\\n",
       "\t2 & \\{COD\\_DISCIPLINA=GMEC7606\\} => \\{SITUACAO=Rejeitada/Falta de Vagas\\}          & 0.001134168                                                                         & 0.6428571                                                                           & 10.271045                                                                          \\\\\n",
       "\t1 & \\{COD\\_TURMA=400001\\} => \\{SITUACAO=Rejeitada/Falta de Vagas\\}                 & 0.001092162                                                                         & 0.6341463                                                                           & 10.131871                                                                          \\\\\n",
       "\t5 & \\{COD\\_DISCIPLINA=GEXT7702IT\\} => \\{SITUACAO=Rejeitada/Falta de Vagas\\}        & 0.001134168                                                                         & 0.6279070                                                                           & 10.032184                                                                          \\\\\n",
       "\t7 & \\{COD\\_TURMA=145\\} => \\{SITUACAO=Rejeitada/Falta de Vagas\\}                    & 0.001092162                                                                         & 0.6046512                                                                           &  9.660621                                                                          \\\\\n",
       "\t25 & \\{COD\\_TURMA=930001\\} => \\{SITUACAO=Rejeitada/Falta de Vagas\\}                 & 0.002772410                                                                         & 0.5454545                                                                           &  8.714826                                                                          \\\\\n",
       "\t11 & \\{COD\\_TURMA=490001\\} => \\{SITUACAO=Rejeitada/Falta de Vagas\\}                 & 0.001050155                                                                         & 0.5319149                                                                           &  8.498501                                                                          \\\\\n",
       "\t30 & \\{NOME\\_DISCIPLINA=ÁLGEBRA LINEAR I\\} => \\{SITUACAO=Rejeitada/Falta de Vagas\\} & 0.003612535                                                                         & 0.5029240                                                                           &  8.035308                                                                          \\\\\n",
       "\\end{tabular}\n"
      ],
      "text/markdown": [
       "\n",
       "| <!--/--> | rules | support | confidence | lift | \n",
       "|---|---|---|---|---|---|---|---|---|---|---|\n",
       "| 12 | {COD_TURMA=405959} => {SITUACAO=Rejeitada/Falta de Pré-Requisito}         | 0.001260187                                                               | 0.6976744                                                                 | 13.319035                                                                 | \n",
       "| 94 | {UNIDADE=MAR,COD_TURMA=145} => {SITUACAO=Rejeitada/Falta de Vagas}        | 0.001092162                                                               | 0.7878788                                                                 | 12.588082                                                                 | \n",
       "| 8 | {COD_DISCIPLINA=GEXT7301IT} => {SITUACAO=Rejeitada/Falta de Vagas}        | 0.001344199                                                               | 0.7272727                                                                 | 11.619768                                                                 | \n",
       "| 10 | {COD_TURMA=101027} => {SITUACAO=Rejeitada/Falta de Vagas}                 | 0.001302193                                                               | 0.7045455                                                                 | 11.256650                                                                 | \n",
       "| 2 | {COD_DISCIPLINA=GMEC7606} => {SITUACAO=Rejeitada/Falta de Vagas}          | 0.001134168                                                               | 0.6428571                                                                 | 10.271045                                                                 | \n",
       "| 1 | {COD_TURMA=400001} => {SITUACAO=Rejeitada/Falta de Vagas}                 | 0.001092162                                                               | 0.6341463                                                                 | 10.131871                                                                 | \n",
       "| 5 | {COD_DISCIPLINA=GEXT7702IT} => {SITUACAO=Rejeitada/Falta de Vagas}        | 0.001134168                                                               | 0.6279070                                                                 | 10.032184                                                                 | \n",
       "| 7 | {COD_TURMA=145} => {SITUACAO=Rejeitada/Falta de Vagas}                    | 0.001092162                                                               | 0.6046512                                                                 |  9.660621                                                                 | \n",
       "| 25 | {COD_TURMA=930001} => {SITUACAO=Rejeitada/Falta de Vagas}                 | 0.002772410                                                               | 0.5454545                                                                 |  8.714826                                                                 | \n",
       "| 11 | {COD_TURMA=490001} => {SITUACAO=Rejeitada/Falta de Vagas}                 | 0.001050155                                                               | 0.5319149                                                                 |  8.498501                                                                 | \n",
       "| 30 | {NOME_DISCIPLINA=ÁLGEBRA LINEAR I} => {SITUACAO=Rejeitada/Falta de Vagas} | 0.003612535                                                               | 0.5029240                                                                 |  8.035308                                                                 | \n",
       "\n",
       "\n"
      ],
      "text/plain": [
       "   rules                                                                    \n",
       "12 {COD_TURMA=405959} => {SITUACAO=Rejeitada/Falta de Pré-Requisito}        \n",
       "94 {UNIDADE=MAR,COD_TURMA=145} => {SITUACAO=Rejeitada/Falta de Vagas}       \n",
       "8  {COD_DISCIPLINA=GEXT7301IT} => {SITUACAO=Rejeitada/Falta de Vagas}       \n",
       "10 {COD_TURMA=101027} => {SITUACAO=Rejeitada/Falta de Vagas}                \n",
       "2  {COD_DISCIPLINA=GMEC7606} => {SITUACAO=Rejeitada/Falta de Vagas}         \n",
       "1  {COD_TURMA=400001} => {SITUACAO=Rejeitada/Falta de Vagas}                \n",
       "5  {COD_DISCIPLINA=GEXT7702IT} => {SITUACAO=Rejeitada/Falta de Vagas}       \n",
       "7  {COD_TURMA=145} => {SITUACAO=Rejeitada/Falta de Vagas}                   \n",
       "25 {COD_TURMA=930001} => {SITUACAO=Rejeitada/Falta de Vagas}                \n",
       "11 {COD_TURMA=490001} => {SITUACAO=Rejeitada/Falta de Vagas}                \n",
       "30 {NOME_DISCIPLINA=ÁLGEBRA LINEAR I} => {SITUACAO=Rejeitada/Falta de Vagas}\n",
       "   support     confidence lift     \n",
       "12 0.001260187 0.6976744  13.319035\n",
       "94 0.001092162 0.7878788  12.588082\n",
       "8  0.001344199 0.7272727  11.619768\n",
       "10 0.001302193 0.7045455  11.256650\n",
       "2  0.001134168 0.6428571  10.271045\n",
       "1  0.001092162 0.6341463  10.131871\n",
       "5  0.001134168 0.6279070  10.032184\n",
       "7  0.001092162 0.6046512   9.660621\n",
       "25 0.002772410 0.5454545   8.714826\n",
       "11 0.001050155 0.5319149   8.498501\n",
       "30 0.003612535 0.5029240   8.035308"
      ]
     },
     "metadata": {},
     "output_type": "display_data"
    }
   ],
   "source": [
    "turma"
   ]
  },
  {
   "cell_type": "markdown",
   "metadata": {},
   "source": [
    "Regras de associação interessantes - lenght <4"
   ]
  },
  {
   "cell_type": "code",
   "execution_count": 26,
   "metadata": {
    "scrolled": false
   },
   "outputs": [
    {
     "data": {
      "text/html": [
       "<table>\n",
       "<thead><tr><th></th><th scope=col>rules</th><th scope=col>support</th><th scope=col>confidence</th><th scope=col>lift</th></tr></thead>\n",
       "<tbody>\n",
       "\t<tr><th scope=row>1551</th><td><span style=white-space:pre-wrap>{PERIODO_IDEAL=1,COD_CURSO=GPROD,fPRIOR_DISC=Prioridade de Curso e Periodo} =&gt; {SITUACAO=Rejeitada/Falta de Vagas}                     </span></td><td>0.002058305                                                                                                                                                                       </td><td>0.8032787                                                                                                                                                                         </td><td>12.834129                                                                                                                                                                         </td></tr>\n",
       "\t<tr><th scope=row>1538</th><td><span style=white-space:pre-wrap>{PERIODO_IDEAL=1,PRIOR_TURMA=1,COD_CURSO=GPROD} =&gt; {SITUACAO=Rejeitada/Falta de Vagas}                                                 </span></td><td>0.001512224                                                                                                                                                                       </td><td>0.7659574                                                                                                                                                                         </td><td>12.237841                                                                                                                                                                         </td></tr>\n",
       "\t<tr><th scope=row>212</th><td><span style=white-space:pre-wrap>{COD_DISCIPLINA=GEXT7501,fPRIOR_DISC=Prioridade de Curso e Periodo} =&gt; {SITUACAO=Rejeitada/Falta de Vagas}                             </span></td><td>0.001092162                                                                                                                                                                       </td><td>0.7027027                                                                                                                                                                         </td><td>11.227208                                                                                                                                                                         </td></tr>\n",
       "\t<tr><th scope=row>1091</th><td>{NOME_DISCIPLINA=CÁLCULO A UMA VARIÁVEL,fPRIOR_DISC=Prioridade de Curso e Periodo,fORDEM_MATR=D} =&gt; {SITUACAO=Rejeitada/Falta de Vagas}</td><td>0.002352348                                                                                                                               </td><td>0.6746988                                                                                                                                 </td><td>10.779785                                                                                                                                 </td></tr>\n",
       "\t<tr><th scope=row>1033</th><td><span style=white-space:pre-wrap>{COD_DISCIPLINA=GEXT7301,fPRIOR_DISC=Prioridade de Curso e Periodo,fORDEM_MATR=D} =&gt; {SITUACAO=Rejeitada/Falta de Vagas}               </span></td><td>0.001302193                                                                                                                                                                       </td><td>0.6458333                                                                                                                                                                         </td><td>10.318596                                                                                                                                                                         </td></tr>\n",
       "\t<tr><th scope=row>223</th><td><span style=white-space:pre-wrap>{NOME_DISCIPLINA=ÁLGEBRA LINEAR I,fPRIOR_DISC=Prioridade de Curso e Periodo} =&gt; {SITUACAO=Rejeitada/Falta de Vagas}                    </span></td><td>0.001596236                                                                                                                                                                       </td><td>0.6440678                                                                                                                                                                         </td><td>10.290388                                                                                                                                                                         </td></tr>\n",
       "\t<tr><th scope=row>1576</th><td><span style=white-space:pre-wrap>{UNIDADE=MAR,PERIODO_IDEAL=1,fPRIOR_DISC=Prioridade de Curso} =&gt; {SITUACAO=Rejeitada/Falta de Vagas}                                   </span></td><td>0.003150466                                                                                                                                                                       </td><td>0.6198347                                                                                                                                                                         </td><td> 9.903211                                                                                                                                                                         </td></tr>\n",
       "\t<tr><th scope=row>340</th><td><span style=white-space:pre-wrap>{NOME_UNIDADE=MAR - CURSO SUPERIOR DE TECNOLOGIA EM SISTEMAS PARA INTERNET,PERIODO_IDEAL=1} =&gt; {SITUACAO=Rejeitada/Falta de Vagas}     </span></td><td>0.001764261                                                                                                                                                                       </td><td>0.6176471                                                                                                                                                                         </td><td> 9.868259                                                                                                                                                                         </td></tr>\n",
       "\t<tr><th scope=row>1183</th><td><span style=white-space:pre-wrap>{COD_DISCIPLINA=GEDA7601,COD_CURSO=GPROD,fPRIOR_DISC=Prioridade de Curso} =&gt; {SITUACAO=Rejeitada/Falta de Vagas}                       </span></td><td>0.001344199                                                                                                                                                                       </td><td>0.6037736                                                                                                                                                                         </td><td> 9.646600                                                                                                                                                                         </td></tr>\n",
       "\t<tr><th scope=row>60</th><td><span style=white-space:pre-wrap>{PERIODO_IDEAL=5,COD_CURSO=WEB} =&gt; {SITUACAO=Rejeitada/Falta de Pré-Requisito}                                                         </span></td><td>0.001344199                                                                                                                                                                       </td><td>0.5614035                                                                                                                                                                         </td><td>10.717540                                                                                                                                                                         </td></tr>\n",
       "\t<tr><th scope=row>59</th><td><span style=white-space:pre-wrap>{PERIODO_IDEAL=6,COD_CURSO=WEB} =&gt; {SITUACAO=Rejeitada/Falta de Pré-Requisito}                                                         </span></td><td>0.001008149                                                                                                                                                                       </td><td>0.3636364                                                                                                                                                                         </td><td> 6.942043                                                                                                                                                                         </td></tr>\n",
       "</tbody>\n",
       "</table>\n"
      ],
      "text/latex": [
       "\\begin{tabular}{r|llll}\n",
       "  & rules & support & confidence & lift\\\\\n",
       "\\hline\n",
       "\t1551 & \\{PERIODO\\_IDEAL=1,COD\\_CURSO=GPROD,fPRIOR\\_DISC=Prioridade de Curso e Periodo\\} => \\{SITUACAO=Rejeitada/Falta de Vagas\\}                      & 0.002058305                                                                                                                                           & 0.8032787                                                                                                                                             & 12.834129                                                                                                                                            \\\\\n",
       "\t1538 & \\{PERIODO\\_IDEAL=1,PRIOR\\_TURMA=1,COD\\_CURSO=GPROD\\} => \\{SITUACAO=Rejeitada/Falta de Vagas\\}                                                  & 0.001512224                                                                                                                                           & 0.7659574                                                                                                                                             & 12.237841                                                                                                                                            \\\\\n",
       "\t212 & \\{COD\\_DISCIPLINA=GEXT7501,fPRIOR\\_DISC=Prioridade de Curso e Periodo\\} => \\{SITUACAO=Rejeitada/Falta de Vagas\\}                              & 0.001092162                                                                                                                                         & 0.7027027                                                                                                                                           & 11.227208                                                                                                                                          \\\\\n",
       "\t1091 & \\{NOME\\_DISCIPLINA=CÁLCULO A UMA VARIÁVEL,fPRIOR\\_DISC=Prioridade de Curso e Periodo,fORDEM\\_MATR=D\\} => \\{SITUACAO=Rejeitada/Falta de Vagas\\} & 0.002352348                                                                                                                                           & 0.6746988                                                                                                                                             & 10.779785                                                                                                                                            \\\\\n",
       "\t1033 & \\{COD\\_DISCIPLINA=GEXT7301,fPRIOR\\_DISC=Prioridade de Curso e Periodo,fORDEM\\_MATR=D\\} => \\{SITUACAO=Rejeitada/Falta de Vagas\\}                & 0.001302193                                                                                                                                           & 0.6458333                                                                                                                                             & 10.318596                                                                                                                                            \\\\\n",
       "\t223 & \\{NOME\\_DISCIPLINA=ÁLGEBRA LINEAR I,fPRIOR\\_DISC=Prioridade de Curso e Periodo\\} => \\{SITUACAO=Rejeitada/Falta de Vagas\\}                     & 0.001596236                                                                                                                                         & 0.6440678                                                                                                                                           & 10.290388                                                                                                                                          \\\\\n",
       "\t1576 & \\{UNIDADE=MAR,PERIODO\\_IDEAL=1,fPRIOR\\_DISC=Prioridade de Curso\\} => \\{SITUACAO=Rejeitada/Falta de Vagas\\}                                    & 0.003150466                                                                                                                                         & 0.6198347                                                                                                                                           &  9.903211                                                                                                                                          \\\\\n",
       "\t340 & \\{NOME\\_UNIDADE=MAR - CURSO SUPERIOR DE TECNOLOGIA EM SISTEMAS PARA INTERNET,PERIODO\\_IDEAL=1\\} => \\{SITUACAO=Rejeitada/Falta de Vagas\\}      & 0.001764261                                                                                                                                         & 0.6176471                                                                                                                                           &  9.868259                                                                                                                                          \\\\\n",
       "\t1183 & \\{COD\\_DISCIPLINA=GEDA7601,COD\\_CURSO=GPROD,fPRIOR\\_DISC=Prioridade de Curso\\} => \\{SITUACAO=Rejeitada/Falta de Vagas\\}                        & 0.001344199                                                                                                                                           & 0.6037736                                                                                                                                             &  9.646600                                                                                                                                            \\\\\n",
       "\t60 & \\{PERIODO\\_IDEAL=5,COD\\_CURSO=WEB\\} => \\{SITUACAO=Rejeitada/Falta de Pré-Requisito\\}                                                          & 0.001344199                                                                                                                                         & 0.5614035                                                                                                                                           & 10.717540                                                                                                                                          \\\\\n",
       "\t59 & \\{PERIODO\\_IDEAL=6,COD\\_CURSO=WEB\\} => \\{SITUACAO=Rejeitada/Falta de Pré-Requisito\\}                                                          & 0.001008149                                                                                                                                         & 0.3636364                                                                                                                                           &  6.942043                                                                                                                                          \\\\\n",
       "\\end{tabular}\n"
      ],
      "text/markdown": [
       "\n",
       "| <!--/--> | rules | support | confidence | lift | \n",
       "|---|---|---|---|---|---|---|---|---|---|---|\n",
       "| 1551 | {PERIODO_IDEAL=1,COD_CURSO=GPROD,fPRIOR_DISC=Prioridade de Curso e Periodo} => {SITUACAO=Rejeitada/Falta de Vagas}                      | 0.002058305                                                                                                                             | 0.8032787                                                                                                                               | 12.834129                                                                                                                               | \n",
       "| 1538 | {PERIODO_IDEAL=1,PRIOR_TURMA=1,COD_CURSO=GPROD} => {SITUACAO=Rejeitada/Falta de Vagas}                                                  | 0.001512224                                                                                                                             | 0.7659574                                                                                                                               | 12.237841                                                                                                                               | \n",
       "| 212 | {COD_DISCIPLINA=GEXT7501,fPRIOR_DISC=Prioridade de Curso e Periodo} => {SITUACAO=Rejeitada/Falta de Vagas}                              | 0.001092162                                                                                                                             | 0.7027027                                                                                                                               | 11.227208                                                                                                                               | \n",
       "| 1091 | {NOME_DISCIPLINA=CÁLCULO A UMA VARIÁVEL,fPRIOR_DISC=Prioridade de Curso e Periodo,fORDEM_MATR=D} => {SITUACAO=Rejeitada/Falta de Vagas} | 0.002352348                                                                                                                             | 0.6746988                                                                                                                               | 10.779785                                                                                                                               | \n",
       "| 1033 | {COD_DISCIPLINA=GEXT7301,fPRIOR_DISC=Prioridade de Curso e Periodo,fORDEM_MATR=D} => {SITUACAO=Rejeitada/Falta de Vagas}                | 0.001302193                                                                                                                             | 0.6458333                                                                                                                               | 10.318596                                                                                                                               | \n",
       "| 223 | {NOME_DISCIPLINA=ÁLGEBRA LINEAR I,fPRIOR_DISC=Prioridade de Curso e Periodo} => {SITUACAO=Rejeitada/Falta de Vagas}                     | 0.001596236                                                                                                                             | 0.6440678                                                                                                                               | 10.290388                                                                                                                               | \n",
       "| 1576 | {UNIDADE=MAR,PERIODO_IDEAL=1,fPRIOR_DISC=Prioridade de Curso} => {SITUACAO=Rejeitada/Falta de Vagas}                                    | 0.003150466                                                                                                                             | 0.6198347                                                                                                                               |  9.903211                                                                                                                               | \n",
       "| 340 | {NOME_UNIDADE=MAR - CURSO SUPERIOR DE TECNOLOGIA EM SISTEMAS PARA INTERNET,PERIODO_IDEAL=1} => {SITUACAO=Rejeitada/Falta de Vagas}      | 0.001764261                                                                                                                             | 0.6176471                                                                                                                               |  9.868259                                                                                                                               | \n",
       "| 1183 | {COD_DISCIPLINA=GEDA7601,COD_CURSO=GPROD,fPRIOR_DISC=Prioridade de Curso} => {SITUACAO=Rejeitada/Falta de Vagas}                        | 0.001344199                                                                                                                             | 0.6037736                                                                                                                               |  9.646600                                                                                                                               | \n",
       "| 60 | {PERIODO_IDEAL=5,COD_CURSO=WEB} => {SITUACAO=Rejeitada/Falta de Pré-Requisito}                                                          | 0.001344199                                                                                                                             | 0.5614035                                                                                                                               | 10.717540                                                                                                                               | \n",
       "| 59 | {PERIODO_IDEAL=6,COD_CURSO=WEB} => {SITUACAO=Rejeitada/Falta de Pré-Requisito}                                                          | 0.001008149                                                                                                                             | 0.3636364                                                                                                                               |  6.942043                                                                                                                               | \n",
       "\n",
       "\n"
      ],
      "text/plain": [
       "     rules                                                                                                                                  \n",
       "1551 {PERIODO_IDEAL=1,COD_CURSO=GPROD,fPRIOR_DISC=Prioridade de Curso e Periodo} => {SITUACAO=Rejeitada/Falta de Vagas}                     \n",
       "1538 {PERIODO_IDEAL=1,PRIOR_TURMA=1,COD_CURSO=GPROD} => {SITUACAO=Rejeitada/Falta de Vagas}                                                 \n",
       "212  {COD_DISCIPLINA=GEXT7501,fPRIOR_DISC=Prioridade de Curso e Periodo} => {SITUACAO=Rejeitada/Falta de Vagas}                             \n",
       "1091 {NOME_DISCIPLINA=CÁLCULO A UMA VARIÁVEL,fPRIOR_DISC=Prioridade de Curso e Periodo,fORDEM_MATR=D} => {SITUACAO=Rejeitada/Falta de Vagas}\n",
       "1033 {COD_DISCIPLINA=GEXT7301,fPRIOR_DISC=Prioridade de Curso e Periodo,fORDEM_MATR=D} => {SITUACAO=Rejeitada/Falta de Vagas}               \n",
       "223  {NOME_DISCIPLINA=ÁLGEBRA LINEAR I,fPRIOR_DISC=Prioridade de Curso e Periodo} => {SITUACAO=Rejeitada/Falta de Vagas}                    \n",
       "1576 {UNIDADE=MAR,PERIODO_IDEAL=1,fPRIOR_DISC=Prioridade de Curso} => {SITUACAO=Rejeitada/Falta de Vagas}                                   \n",
       "340  {NOME_UNIDADE=MAR - CURSO SUPERIOR DE TECNOLOGIA EM SISTEMAS PARA INTERNET,PERIODO_IDEAL=1} => {SITUACAO=Rejeitada/Falta de Vagas}     \n",
       "1183 {COD_DISCIPLINA=GEDA7601,COD_CURSO=GPROD,fPRIOR_DISC=Prioridade de Curso} => {SITUACAO=Rejeitada/Falta de Vagas}                       \n",
       "60   {PERIODO_IDEAL=5,COD_CURSO=WEB} => {SITUACAO=Rejeitada/Falta de Pré-Requisito}                                                         \n",
       "59   {PERIODO_IDEAL=6,COD_CURSO=WEB} => {SITUACAO=Rejeitada/Falta de Pré-Requisito}                                                         \n",
       "     support     confidence lift     \n",
       "1551 0.002058305 0.8032787  12.834129\n",
       "1538 0.001512224 0.7659574  12.237841\n",
       "212  0.001092162 0.7027027  11.227208\n",
       "1091 0.002352348 0.6746988  10.779785\n",
       "1033 0.001302193 0.6458333  10.318596\n",
       "223  0.001596236 0.6440678  10.290388\n",
       "1576 0.003150466 0.6198347   9.903211\n",
       "340  0.001764261 0.6176471   9.868259\n",
       "1183 0.001344199 0.6037736   9.646600\n",
       "60   0.001344199 0.5614035  10.717540\n",
       "59   0.001008149 0.3636364   6.942043"
      ]
     },
     "metadata": {},
     "output_type": "display_data"
    }
   ],
   "source": [
    "interessante"
   ]
  },
  {
   "cell_type": "markdown",
   "metadata": {},
   "source": [
    "###### Gráficos Gerados"
   ]
  },
  {
   "cell_type": "markdown",
   "metadata": {},
   "source": [
    "Análise lift das regras contendo código da turma como antecedente e rejeição de vaga como consequente"
   ]
  },
  {
   "cell_type": "code",
   "execution_count": 27,
   "metadata": {
    "scrolled": true
   },
   "outputs": [
    {
     "data": {},
     "metadata": {},
     "output_type": "display_data"
    },
    {
     "data": {
      "image/png": "[encoded data removed]",
      "text/plain": [
       "plot without title"
      ]
     },
     "metadata": {},
     "output_type": "display_data"
    }
   ],
   "source": [
    "grf6"
   ]
  }
 ],
 "metadata": {
  "kernelspec": {
   "display_name": "R",
   "language": "R",
   "name": "ir"
  },
  "language_info": {
   "codemirror_mode": "r",
   "file_extension": ".r",
   "mimetype": "text/x-r-source",
   "name": "R",
   "pygments_lexer": "r",
   "version": "3.3.2"
  }
 },
 "nbformat": 4,
 "nbformat_minor": 2
}
